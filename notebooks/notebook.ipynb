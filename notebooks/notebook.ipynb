{
 "cells": [
  {
   "cell_type": "markdown",
   "id": "b8a96254",
   "metadata": {},
   "source": [
    "# Importación de librerías 🐍"
   ]
  },
  {
   "cell_type": "code",
   "execution_count": 9,
   "id": "82c83d70",
   "metadata": {},
   "outputs": [
    {
     "name": "stderr",
     "output_type": "stream",
     "text": [
      "[nltk_data] Downloading package stopwords to\n",
      "[nltk_data]     /home/wrstdani/nltk_data...\n",
      "[nltk_data]   Package stopwords is already up-to-date!\n",
      "[nltk_data] Downloading package wordnet to /home/wrstdani/nltk_data...\n",
      "[nltk_data] Downloading package averaged_perceptron_tagger_eng to\n",
      "[nltk_data]     /home/wrstdani/nltk_data...\n",
      "[nltk_data]   Package averaged_perceptron_tagger_eng is already up-to-\n",
      "[nltk_data]       date!\n"
     ]
    }
   ],
   "source": [
    "import os\n",
    "import random\n",
    "import pandas as pd\n",
    "import numpy as np\n",
    "import matplotlib.pyplot as plt\n",
    "\n",
    "# Herramientas para el preprocesamiento del texto\n",
    "import re\n",
    "import nltk\n",
    "nltk.download(\"stopwords\")\n",
    "from nltk.tokenize import regexp_tokenize\n",
    "from nltk import pos_tag\n",
    "from nltk.stem import WordNetLemmatizer\n",
    "nltk.download(\"wordnet\")\n",
    "nltk.download(\"averaged_perceptron_tagger_eng\")\n",
    "from nltk.corpus import stopwords\n",
    "spanish_sw = set(stopwords.words(\"english\"))\n",
    "\n",
    "# Vectorizaciones basadas en BoW\n",
    "from sklearn.feature_extraction.text import CountVectorizer, TfidfVectorizer\n",
    "\n",
    "# Modelos \"clásicos\" de ML\n",
    "from sklearn.naive_bayes import ComplementNB, \\\n",
    "    BernoulliNB  # BoW con pesado binario\n",
    "from sklearn.svm import LinearSVC\n",
    "\n",
    "# Modelos de DL\n",
    "import tensorflow as tf"
   ]
  },
  {
   "cell_type": "markdown",
   "id": "7c18da2f",
   "metadata": {},
   "source": [
    "# Clasificación de ideologías de tuits 🐦"
   ]
  },
  {
   "cell_type": "markdown",
   "id": "3a677fb7",
   "metadata": {},
   "source": [
    "## Carga de datos 💾"
   ]
  },
  {
   "cell_type": "code",
   "execution_count": 10,
   "id": "4a1971db",
   "metadata": {},
   "outputs": [],
   "source": [
    "\"\"\"\n",
    "- Definimos la ruta en que se encuentran nuestros datos y cargamos los DFs necesarios\n",
    "\"\"\"\n",
    "data_path = os.path.join(\"..\", \"data\")\n",
    "generated_path = os.path.join(\"..\", \"resources\", \"generated\")\n",
    "\n",
    "train_df = pd.read_csv(os.path.join(data_path, \"train.csv\"))\n",
    "dev_df = pd.read_csv(os.path.join(data_path, \"development.csv\"))"
   ]
  },
  {
   "cell_type": "code",
   "execution_count": 11,
   "id": "036754ec",
   "metadata": {},
   "outputs": [
    {
     "data": {
      "text/html": [
       "<div>\n",
       "<style scoped>\n",
       "    .dataframe tbody tr th:only-of-type {\n",
       "        vertical-align: middle;\n",
       "    }\n",
       "\n",
       "    .dataframe tbody tr th {\n",
       "        vertical-align: top;\n",
       "    }\n",
       "\n",
       "    .dataframe thead th {\n",
       "        text-align: right;\n",
       "    }\n",
       "</style>\n",
       "<table border=\"1\" class=\"dataframe\">\n",
       "  <thead>\n",
       "    <tr style=\"text-align: right;\">\n",
       "      <th></th>\n",
       "      <th>id</th>\n",
       "      <th>label</th>\n",
       "      <th>gender</th>\n",
       "      <th>profession</th>\n",
       "      <th>ideology_binary</th>\n",
       "      <th>ideology_multiclass</th>\n",
       "      <th>tweet</th>\n",
       "    </tr>\n",
       "  </thead>\n",
       "  <tbody>\n",
       "    <tr>\n",
       "      <th>0</th>\n",
       "      <td>37732</td>\n",
       "      <td>@user239</td>\n",
       "      <td>female</td>\n",
       "      <td>politician</td>\n",
       "      <td>right</td>\n",
       "      <td>moderate_right</td>\n",
       "      <td>@user, propuestas de futuro 💪#no tocar las ref...</td>\n",
       "    </tr>\n",
       "    <tr>\n",
       "      <th>1</th>\n",
       "      <td>38447</td>\n",
       "      <td>@user13</td>\n",
       "      <td>female</td>\n",
       "      <td>journalist</td>\n",
       "      <td>left</td>\n",
       "      <td>left</td>\n",
       "      <td>@user @user Podemos entrar en bucle hasta el i...</td>\n",
       "    </tr>\n",
       "    <tr>\n",
       "      <th>2</th>\n",
       "      <td>10758</td>\n",
       "      <td>@user8</td>\n",
       "      <td>female</td>\n",
       "      <td>politician</td>\n",
       "      <td>left</td>\n",
       "      <td>moderate_left</td>\n",
       "      <td>👉🏻Como gallega me produce profunda decepción v...</td>\n",
       "    </tr>\n",
       "    <tr>\n",
       "      <th>3</th>\n",
       "      <td>33860</td>\n",
       "      <td>@user262</td>\n",
       "      <td>male</td>\n",
       "      <td>politician</td>\n",
       "      <td>right</td>\n",
       "      <td>right</td>\n",
       "      <td>Y ahora, tras este raro de amable discusión so...</td>\n",
       "    </tr>\n",
       "    <tr>\n",
       "      <th>4</th>\n",
       "      <td>11677</td>\n",
       "      <td>@user341</td>\n",
       "      <td>female</td>\n",
       "      <td>politician</td>\n",
       "      <td>right</td>\n",
       "      <td>right</td>\n",
       "      <td>1-No se trata de defender o no la labor de @us...</td>\n",
       "    </tr>\n",
       "  </tbody>\n",
       "</table>\n",
       "</div>"
      ],
      "text/plain": [
       "      id     label  gender  profession ideology_binary ideology_multiclass  \\\n",
       "0  37732  @user239  female  politician           right      moderate_right   \n",
       "1  38447   @user13  female  journalist            left                left   \n",
       "2  10758    @user8  female  politician            left       moderate_left   \n",
       "3  33860  @user262    male  politician           right               right   \n",
       "4  11677  @user341  female  politician           right               right   \n",
       "\n",
       "                                               tweet  \n",
       "0  @user, propuestas de futuro 💪#no tocar las ref...  \n",
       "1  @user @user Podemos entrar en bucle hasta el i...  \n",
       "2  👉🏻Como gallega me produce profunda decepción v...  \n",
       "3  Y ahora, tras este raro de amable discusión so...  \n",
       "4  1-No se trata de defender o no la labor de @us...  "
      ]
     },
     "execution_count": 11,
     "metadata": {},
     "output_type": "execute_result"
    }
   ],
   "source": [
    "train_df.head()"
   ]
  },
  {
   "cell_type": "code",
   "execution_count": 12,
   "id": "9e0fabea",
   "metadata": {},
   "outputs": [
    {
     "data": {
      "text/html": [
       "<div>\n",
       "<style scoped>\n",
       "    .dataframe tbody tr th:only-of-type {\n",
       "        vertical-align: middle;\n",
       "    }\n",
       "\n",
       "    .dataframe tbody tr th {\n",
       "        vertical-align: top;\n",
       "    }\n",
       "\n",
       "    .dataframe thead th {\n",
       "        text-align: right;\n",
       "    }\n",
       "</style>\n",
       "<table border=\"1\" class=\"dataframe\">\n",
       "  <thead>\n",
       "    <tr style=\"text-align: right;\">\n",
       "      <th></th>\n",
       "      <th>id</th>\n",
       "      <th>label</th>\n",
       "      <th>gender</th>\n",
       "      <th>profession</th>\n",
       "      <th>ideology_binary</th>\n",
       "      <th>ideology_multiclass</th>\n",
       "      <th>tweet</th>\n",
       "    </tr>\n",
       "  </thead>\n",
       "  <tbody>\n",
       "    <tr>\n",
       "      <th>0</th>\n",
       "      <td>14755</td>\n",
       "      <td>@user206</td>\n",
       "      <td>female</td>\n",
       "      <td>journalist</td>\n",
       "      <td>left</td>\n",
       "      <td>moderate_left</td>\n",
       "      <td>En unos minutos adelantaremos en @user imágene...</td>\n",
       "    </tr>\n",
       "    <tr>\n",
       "      <th>1</th>\n",
       "      <td>31904</td>\n",
       "      <td>@user137</td>\n",
       "      <td>female</td>\n",
       "      <td>politician</td>\n",
       "      <td>left</td>\n",
       "      <td>moderate_left</td>\n",
       "      <td>Vacunar, vacunar y vacunar. Ese es el gran obj...</td>\n",
       "    </tr>\n",
       "    <tr>\n",
       "      <th>2</th>\n",
       "      <td>45517</td>\n",
       "      <td>@user180</td>\n",
       "      <td>male</td>\n",
       "      <td>journalist</td>\n",
       "      <td>right</td>\n",
       "      <td>moderate_right</td>\n",
       "      <td>Me voy para @user. Hoy no hay programa pero es...</td>\n",
       "    </tr>\n",
       "    <tr>\n",
       "      <th>3</th>\n",
       "      <td>11015</td>\n",
       "      <td>@user290</td>\n",
       "      <td>male</td>\n",
       "      <td>politician</td>\n",
       "      <td>left</td>\n",
       "      <td>left</td>\n",
       "      <td>Vivimos en un país en el 12 mill y medio de pe...</td>\n",
       "    </tr>\n",
       "    <tr>\n",
       "      <th>4</th>\n",
       "      <td>25991</td>\n",
       "      <td>@user228</td>\n",
       "      <td>male</td>\n",
       "      <td>politician</td>\n",
       "      <td>right</td>\n",
       "      <td>moderate_right</td>\n",
       "      <td>En casa de la VP Rivera no les gusta q se habl...</td>\n",
       "    </tr>\n",
       "  </tbody>\n",
       "</table>\n",
       "</div>"
      ],
      "text/plain": [
       "      id     label  gender  profession ideology_binary ideology_multiclass  \\\n",
       "0  14755  @user206  female  journalist            left       moderate_left   \n",
       "1  31904  @user137  female  politician            left       moderate_left   \n",
       "2  45517  @user180    male  journalist           right      moderate_right   \n",
       "3  11015  @user290    male  politician            left                left   \n",
       "4  25991  @user228    male  politician           right      moderate_right   \n",
       "\n",
       "                                               tweet  \n",
       "0  En unos minutos adelantaremos en @user imágene...  \n",
       "1  Vacunar, vacunar y vacunar. Ese es el gran obj...  \n",
       "2  Me voy para @user. Hoy no hay programa pero es...  \n",
       "3  Vivimos en un país en el 12 mill y medio de pe...  \n",
       "4  En casa de la VP Rivera no les gusta q se habl...  "
      ]
     },
     "execution_count": 12,
     "metadata": {},
     "output_type": "execute_result"
    }
   ],
   "source": [
    "dev_df.head()"
   ]
  },
  {
   "cell_type": "code",
   "execution_count": 13,
   "id": "f41db206",
   "metadata": {},
   "outputs": [
    {
     "name": "stdout",
     "output_type": "stream",
     "text": [
      "- Etiquetas:\n",
      "    - Existen 4 clases:\n",
      "        - moderate_left -> 0\n",
      "        - left -> 1\n",
      "        - moderate_right -> 2\n",
      "        - right -> 3\n",
      "- Conjuntos de datos:\n",
      "    - Entrenamiento:\n",
      "        - 28065 ejemplos.\n",
      "    - Desarrollo (Test):\n",
      "        - 4678 ejemplos.\n"
     ]
    }
   ],
   "source": [
    "\"\"\"\n",
    "- Extraemos las etiquetas (labels) para la clasificación y los tuits\n",
    "\"\"\"\n",
    "labels = {\n",
    "    \"moderate_left\": 0,\n",
    "    \"left\": 1,\n",
    "    \"moderate_right\": 2,\n",
    "    \"right\": 3\n",
    "}\n",
    "\n",
    "print(\"- Etiquetas:\")\n",
    "print(f\"    - Existen {len(labels)} clases:\")\n",
    "for l, i in labels.items():\n",
    "    print(f\"        - {l} -> {i}\")\n",
    "\n",
    "corpus_train = train_df[\"tweet\"].tolist()\n",
    "y_train = np.array([labels[l] for l in train_df[\"ideology_multiclass\"]], dtype=np.uint8)\n",
    "corpus_dev = dev_df[\"tweet\"].tolist()\n",
    "y_dev = np.array([labels[l] for l in dev_df[\"ideology_multiclass\"]], dtype=np.uint8)\n",
    "\n",
    "print(\"- Conjuntos de datos:\")\n",
    "print(\"    - Entrenamiento:\")\n",
    "print(f\"        - {y_train.shape[0]} ejemplos.\")\n",
    "print(\"    - Desarrollo (Test):\")\n",
    "print(f\"        - {y_dev.shape[0]} ejemplos.\")"
   ]
  },
  {
   "cell_type": "markdown",
   "id": "472473f2",
   "metadata": {},
   "source": [
    "## Visualización y preprocesamiento de los datos 🔍"
   ]
  },
  {
   "cell_type": "code",
   "execution_count": 14,
   "id": "1154acf7",
   "metadata": {},
   "outputs": [
    {
     "data": {
      "image/png": "[encoded data removed]",
      "text/plain": [
       "<Figure size 800x800 with 1 Axes>"
      ]
     },
     "metadata": {},
     "output_type": "display_data"
    }
   ],
   "source": [
    "\"\"\"\n",
    "- Histograma del número de ejemplos de cada clase\n",
    "\"\"\"\n",
    "filename = \"train_classes_hist.png\"\n",
    "save_flag = True\n",
    "\n",
    "class_names = list(labels.keys())\n",
    "num_classes = len(class_names)\n",
    "\n",
    "plt.figure(figsize=(8, 8))\n",
    "plt.hist(y_train, bins=np.arange(num_classes + 1) - 0.5, rwidth=0.8, align='mid')\n",
    "\n",
    "plt.title(\"Distribución de ejemplos de entrenamiento por ideología\")\n",
    "plt.xlabel(\"Ideología\")\n",
    "plt.ylabel(\"Número de ejemplos\")\n",
    "\n",
    "plt.xticks(ticks=np.arange(num_classes), labels=class_names)\n",
    "\n",
    "plt.grid(axis='y', linestyle='--') # Añadir rejilla horizontal para facilitar la lectura\n",
    "\n",
    "if save_flag:\n",
    "    plt.savefig(os.path.join(generated_path, filename))\n",
    "\n",
    "plt.show()"
   ]
  },
  {
   "cell_type": "code",
   "execution_count": 15,
   "id": "6b268202",
   "metadata": {},
   "outputs": [
    {
     "name": "stdout",
     "output_type": "stream",
     "text": [
      "- Texto original:\n",
      "    - 'Iglesias en el Consejo Estatal de Podemos: . “Creo que podemos estar muy orgullosos y orgullosas” de la gestión de la crisis. Me parece frívolo y de poca catadura moral con: . 40.000 fallecidos, 51.000 sanitarios contagiados, 1 MM de personas más en paro y 800.000 afiliados menos'\n",
      "- Texto preprocesado:\n",
      "    - 'iglesias consejo estatal podemos creo que podemos estar muy orgullosos orgullosas gestión crisis parece frívolo poca catadura moral con 000 fallecidos 000 sanitarios contagiados persona más paro 800 000 afiliados menos'\n"
     ]
    }
   ],
   "source": [
    "def nltk2wn_tag(tag: str) -> str:\n",
    "    if tag.startswith(\"N\"):\n",
    "        return \"n\"\n",
    "    elif tag.startswith(\"V\"):\n",
    "        return \"v\"\n",
    "    elif tag.startswith(\"J\"):\n",
    "        return \"a\"\n",
    "    elif tag.startswith(\"R\"):\n",
    "        return \"r\"\n",
    "    else:\n",
    "        return \"n\"\n",
    "\n",
    "def preprocess_text_nltk(text: str, del_sw: bool = False, lem: bool = False) -> list[str]:\n",
    "    \"\"\"\n",
    "    - Utilizando regex:\n",
    "        - Eliminamos puntuación\n",
    "        - Eliminamos menciones a usuarios (comienzan por \"@\")\n",
    "    \"\"\"\n",
    "    preprocessed = text\n",
    "    regex_mentions = r\"@\\w+\\s*\"\n",
    "    preprocessed = re.sub(regex_mentions, \"\", preprocessed + \" \")\n",
    "\n",
    "    regex = r\"\\w{3,}\"  # Tokens de 3 o más caracteres\n",
    "    preprocessed = regexp_tokenize(preprocessed, regex)\n",
    "\n",
    "    if del_sw:\n",
    "        preprocessed = [w.lower() for w in preprocessed if w not in spanish_sw]\n",
    "\n",
    "    if lem:\n",
    "        preprocessed = [WordNetLemmatizer().lemmatize(w) for w in preprocessed]\n",
    "\n",
    "    return \" \".join(preprocessed)\n",
    "\n",
    "sample = random.choice(corpus_train)\n",
    "print(\"- Texto original:\")\n",
    "print(f\"    - '{sample}'\")\n",
    "preprocessed_sample = preprocess_text_nltk(sample, True, True)\n",
    "print(\"- Texto preprocesado:\")\n",
    "print(f\"    - '{preprocessed_sample}'\")"
   ]
  }
 ],
 "metadata": {
  "kernelspec": {
   "display_name": "practica_pln1",
   "language": "python",
   "name": "python3"
  },
  "language_info": {
   "codemirror_mode": {
    "name": "ipython",
    "version": 3
   },
   "file_extension": ".py",
   "mimetype": "text/x-python",
   "name": "python",
   "nbconvert_exporter": "python",
   "pygments_lexer": "ipython3",
   "version": "3.11.11"
  }
 },
 "nbformat": 4,
 "nbformat_minor": 5
}

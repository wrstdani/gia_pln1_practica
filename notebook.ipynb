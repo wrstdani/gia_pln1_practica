{
 "cells": [
  {
   "cell_type": "markdown",
   "id": "b8a96254",
   "metadata": {},
   "source": [
    "# Importación de librerías 🐍"
   ]
  },
  {
   "cell_type": "code",
   "execution_count": 1,
   "id": "82c83d70",
   "metadata": {},
   "outputs": [
    {
     "name": "stdout",
     "output_type": "stream",
     "text": [
      "Collecting es-core-news-sm==3.8.0\n",
      "  Downloading https://github.com/explosion/spacy-models/releases/download/es_core_news_sm-3.8.0/es_core_news_sm-3.8.0-py3-none-any.whl (12.9 MB)\n",
      "\u001b[2K     \u001b[90m━━━━━━━━━━━━━━━━━━━━━━━━━━━━━━━━━━━━━━━━\u001b[0m \u001b[32m12.9/12.9 MB\u001b[0m \u001b[31m45.9 MB/s\u001b[0m eta \u001b[36m0:00:00\u001b[0m \u001b[36m0:00:01\u001b[0m\n",
      "\u001b[?25h\u001b[38;5;2m✔ Download and installation successful\u001b[0m\n",
      "You can now load the package via spacy.load('es_core_news_sm')\n"
     ]
    },
    {
     "name": "stderr",
     "output_type": "stream",
     "text": [
      "/opt/anaconda3/envs/practica_pln1/lib/python3.12/site-packages/tqdm/auto.py:21: TqdmWarning: IProgress not found. Please update jupyter and ipywidgets. See https://ipywidgets.readthedocs.io/en/stable/user_install.html\n",
      "  from .autonotebook import tqdm as notebook_tqdm\n"
     ]
    }
   ],
   "source": [
    "import os\n",
    "import random\n",
    "import re\n",
    "import pandas as pd\n",
    "import numpy as np\n",
    "import matplotlib.pyplot as plt\n",
    "\n",
    "# Librería SpaCy para preprocesamiento de texto\n",
    "import spacy\n",
    "!python -m spacy download es_core_news_sm\n",
    "\n",
    "import emoji\n",
    "\n",
    "# Vectorizaciones basadas en BoW\n",
    "from sklearn.feature_extraction.text import CountVectorizer, TfidfVectorizer\n",
    "\n",
    "# Modelos \"clásicos\" de ML\n",
    "from sklearn.naive_bayes import ComplementNB, \\\n",
    "    BernoulliNB  # BoW con pesado binario\n",
    "from sklearn.svm import LinearSVC\n",
    "\n",
    "# Obtención de embeddings contextuales\n",
    "from transformers import AutoTokenizer, TFAutoModel\n",
    "\n",
    "# Modelos de DL\n",
    "import tensorflow as tf\n",
    "from keras.models import Sequential\n",
    "from keras.layers import Embedding, Dense, Flatten, Conv1D, MaxPooling1D\n",
    "\n",
    "# Métricas de rendimiento para evaluar los modelos\n",
    "from sklearn.metrics import f1_score, \\\n",
    "    accuracy_score, \\\n",
    "    precision_score,\\\n",
    "    recall_score,\\\n",
    "    confusion_matrix,\\\n",
    "    ConfusionMatrixDisplay\n",
    "\n",
    "# Guardar modelos ya entrenados\n",
    "import pickle"
   ]
  },
  {
   "cell_type": "markdown",
   "id": "7c18da2f",
   "metadata": {},
   "source": [
    "# Clasificación de ideologías de tuits 🐦"
   ]
  },
  {
   "cell_type": "markdown",
   "id": "3a677fb7",
   "metadata": {},
   "source": [
    "## Carga de datos 💾"
   ]
  },
  {
   "cell_type": "code",
   "execution_count": 2,
   "id": "4a1971db",
   "metadata": {},
   "outputs": [],
   "source": [
    "\"\"\"\n",
    "- Definimos la ruta en que se encuentran nuestros datos y cargamos los DFs necesarios\n",
    "\n",
    "\"\"\"\n",
    "data_path = \"data\"\n",
    "data_generated_path = os.path.join(data_path, \"generated\")\n",
    "resources_generated_path = os.path.join(\"resources\", \"generated\")\n",
    "models_path = os.path.join(\"models\")\n",
    "\n",
    "train_df = pd.read_csv(os.path.join(data_path, \"train.csv\"))\n",
    "dev_df = pd.read_csv(os.path.join(data_path, \"development.csv\"))"
   ]
  },
  {
   "cell_type": "code",
   "execution_count": 3,
   "id": "036754ec",
   "metadata": {},
   "outputs": [
    {
     "data": {
      "text/html": [
       "<div>\n",
       "<style scoped>\n",
       "    .dataframe tbody tr th:only-of-type {\n",
       "        vertical-align: middle;\n",
       "    }\n",
       "\n",
       "    .dataframe tbody tr th {\n",
       "        vertical-align: top;\n",
       "    }\n",
       "\n",
       "    .dataframe thead th {\n",
       "        text-align: right;\n",
       "    }\n",
       "</style>\n",
       "<table border=\"1\" class=\"dataframe\">\n",
       "  <thead>\n",
       "    <tr style=\"text-align: right;\">\n",
       "      <th></th>\n",
       "      <th>id</th>\n",
       "      <th>label</th>\n",
       "      <th>gender</th>\n",
       "      <th>profession</th>\n",
       "      <th>ideology_binary</th>\n",
       "      <th>ideology_multiclass</th>\n",
       "      <th>tweet</th>\n",
       "    </tr>\n",
       "  </thead>\n",
       "  <tbody>\n",
       "    <tr>\n",
       "      <th>0</th>\n",
       "      <td>37732</td>\n",
       "      <td>@user239</td>\n",
       "      <td>female</td>\n",
       "      <td>politician</td>\n",
       "      <td>right</td>\n",
       "      <td>moderate_right</td>\n",
       "      <td>@user, propuestas de futuro 💪#no tocar las ref...</td>\n",
       "    </tr>\n",
       "    <tr>\n",
       "      <th>1</th>\n",
       "      <td>38447</td>\n",
       "      <td>@user13</td>\n",
       "      <td>female</td>\n",
       "      <td>journalist</td>\n",
       "      <td>left</td>\n",
       "      <td>left</td>\n",
       "      <td>@user @user Podemos entrar en bucle hasta el i...</td>\n",
       "    </tr>\n",
       "    <tr>\n",
       "      <th>2</th>\n",
       "      <td>10758</td>\n",
       "      <td>@user8</td>\n",
       "      <td>female</td>\n",
       "      <td>politician</td>\n",
       "      <td>left</td>\n",
       "      <td>moderate_left</td>\n",
       "      <td>👉🏻Como gallega me produce profunda decepción v...</td>\n",
       "    </tr>\n",
       "    <tr>\n",
       "      <th>3</th>\n",
       "      <td>33860</td>\n",
       "      <td>@user262</td>\n",
       "      <td>male</td>\n",
       "      <td>politician</td>\n",
       "      <td>right</td>\n",
       "      <td>right</td>\n",
       "      <td>Y ahora, tras este raro de amable discusión so...</td>\n",
       "    </tr>\n",
       "    <tr>\n",
       "      <th>4</th>\n",
       "      <td>11677</td>\n",
       "      <td>@user341</td>\n",
       "      <td>female</td>\n",
       "      <td>politician</td>\n",
       "      <td>right</td>\n",
       "      <td>right</td>\n",
       "      <td>1-No se trata de defender o no la labor de @us...</td>\n",
       "    </tr>\n",
       "  </tbody>\n",
       "</table>\n",
       "</div>"
      ],
      "text/plain": [
       "      id     label  gender  profession ideology_binary ideology_multiclass  \\\n",
       "0  37732  @user239  female  politician           right      moderate_right   \n",
       "1  38447   @user13  female  journalist            left                left   \n",
       "2  10758    @user8  female  politician            left       moderate_left   \n",
       "3  33860  @user262    male  politician           right               right   \n",
       "4  11677  @user341  female  politician           right               right   \n",
       "\n",
       "                                               tweet  \n",
       "0  @user, propuestas de futuro 💪#no tocar las ref...  \n",
       "1  @user @user Podemos entrar en bucle hasta el i...  \n",
       "2  👉🏻Como gallega me produce profunda decepción v...  \n",
       "3  Y ahora, tras este raro de amable discusión so...  \n",
       "4  1-No se trata de defender o no la labor de @us...  "
      ]
     },
     "execution_count": 3,
     "metadata": {},
     "output_type": "execute_result"
    }
   ],
   "source": [
    "train_df.head()"
   ]
  },
  {
   "cell_type": "code",
   "execution_count": 4,
   "id": "9e0fabea",
   "metadata": {},
   "outputs": [
    {
     "data": {
      "text/html": [
       "<div>\n",
       "<style scoped>\n",
       "    .dataframe tbody tr th:only-of-type {\n",
       "        vertical-align: middle;\n",
       "    }\n",
       "\n",
       "    .dataframe tbody tr th {\n",
       "        vertical-align: top;\n",
       "    }\n",
       "\n",
       "    .dataframe thead th {\n",
       "        text-align: right;\n",
       "    }\n",
       "</style>\n",
       "<table border=\"1\" class=\"dataframe\">\n",
       "  <thead>\n",
       "    <tr style=\"text-align: right;\">\n",
       "      <th></th>\n",
       "      <th>id</th>\n",
       "      <th>label</th>\n",
       "      <th>gender</th>\n",
       "      <th>profession</th>\n",
       "      <th>ideology_binary</th>\n",
       "      <th>ideology_multiclass</th>\n",
       "      <th>tweet</th>\n",
       "    </tr>\n",
       "  </thead>\n",
       "  <tbody>\n",
       "    <tr>\n",
       "      <th>0</th>\n",
       "      <td>14755</td>\n",
       "      <td>@user206</td>\n",
       "      <td>female</td>\n",
       "      <td>journalist</td>\n",
       "      <td>left</td>\n",
       "      <td>moderate_left</td>\n",
       "      <td>En unos minutos adelantaremos en @user imágene...</td>\n",
       "    </tr>\n",
       "    <tr>\n",
       "      <th>1</th>\n",
       "      <td>31904</td>\n",
       "      <td>@user137</td>\n",
       "      <td>female</td>\n",
       "      <td>politician</td>\n",
       "      <td>left</td>\n",
       "      <td>moderate_left</td>\n",
       "      <td>Vacunar, vacunar y vacunar. Ese es el gran obj...</td>\n",
       "    </tr>\n",
       "    <tr>\n",
       "      <th>2</th>\n",
       "      <td>45517</td>\n",
       "      <td>@user180</td>\n",
       "      <td>male</td>\n",
       "      <td>journalist</td>\n",
       "      <td>right</td>\n",
       "      <td>moderate_right</td>\n",
       "      <td>Me voy para @user. Hoy no hay programa pero es...</td>\n",
       "    </tr>\n",
       "    <tr>\n",
       "      <th>3</th>\n",
       "      <td>11015</td>\n",
       "      <td>@user290</td>\n",
       "      <td>male</td>\n",
       "      <td>politician</td>\n",
       "      <td>left</td>\n",
       "      <td>left</td>\n",
       "      <td>Vivimos en un país en el 12 mill y medio de pe...</td>\n",
       "    </tr>\n",
       "    <tr>\n",
       "      <th>4</th>\n",
       "      <td>25991</td>\n",
       "      <td>@user228</td>\n",
       "      <td>male</td>\n",
       "      <td>politician</td>\n",
       "      <td>right</td>\n",
       "      <td>moderate_right</td>\n",
       "      <td>En casa de la VP Rivera no les gusta q se habl...</td>\n",
       "    </tr>\n",
       "  </tbody>\n",
       "</table>\n",
       "</div>"
      ],
      "text/plain": [
       "      id     label  gender  profession ideology_binary ideology_multiclass  \\\n",
       "0  14755  @user206  female  journalist            left       moderate_left   \n",
       "1  31904  @user137  female  politician            left       moderate_left   \n",
       "2  45517  @user180    male  journalist           right      moderate_right   \n",
       "3  11015  @user290    male  politician            left                left   \n",
       "4  25991  @user228    male  politician           right      moderate_right   \n",
       "\n",
       "                                               tweet  \n",
       "0  En unos minutos adelantaremos en @user imágene...  \n",
       "1  Vacunar, vacunar y vacunar. Ese es el gran obj...  \n",
       "2  Me voy para @user. Hoy no hay programa pero es...  \n",
       "3  Vivimos en un país en el 12 mill y medio de pe...  \n",
       "4  En casa de la VP Rivera no les gusta q se habl...  "
      ]
     },
     "execution_count": 4,
     "metadata": {},
     "output_type": "execute_result"
    }
   ],
   "source": [
    "dev_df.head()"
   ]
  },
  {
   "cell_type": "code",
   "execution_count": 5,
   "id": "f41db206",
   "metadata": {},
   "outputs": [
    {
     "name": "stdout",
     "output_type": "stream",
     "text": [
      "- Etiquetas:\n",
      "    - Existen 4 clases:\n",
      "        - moderate_left -> 0\n",
      "        - left -> 1\n",
      "        - moderate_right -> 2\n",
      "        - right -> 3\n",
      "- Conjuntos de datos:\n",
      "    - Entrenamiento:\n",
      "        - 28065 ejemplos.\n",
      "    - Desarrollo (Test):\n",
      "        - 4678 ejemplos.\n"
     ]
    }
   ],
   "source": [
    "\"\"\"\n",
    "- Extraemos las etiquetas (labels) para la clasificación y los tuits\n",
    "\"\"\"\n",
    "labels = {\n",
    "    \"moderate_left\": 0,\n",
    "    \"left\": 1,\n",
    "    \"moderate_right\": 2,\n",
    "    \"right\": 3\n",
    "}\n",
    "\n",
    "print(\"- Etiquetas:\")\n",
    "print(f\"    - Existen {len(labels)} clases:\")\n",
    "for l, i in labels.items():\n",
    "    print(f\"        - {l} -> {i}\")\n",
    "\n",
    "corpus_train = train_df[\"tweet\"].tolist()\n",
    "y_train = np.array([labels[l] for l in train_df[\"ideology_multiclass\"]]).reshape(len(corpus_train), 1)\n",
    "corpus_dev = dev_df[\"tweet\"].tolist()\n",
    "y_dev = np.array([labels[l] for l in dev_df[\"ideology_multiclass\"]]).reshape(len(corpus_dev), 1)\n",
    "\n",
    "print(\"- Conjuntos de datos:\")\n",
    "print(\"    - Entrenamiento:\")\n",
    "print(f\"        - {y_train.shape[0]} ejemplos.\")\n",
    "print(\"    - Desarrollo (Test):\")\n",
    "print(f\"        - {y_dev.shape[0]} ejemplos.\")"
   ]
  },
  {
   "cell_type": "markdown",
   "id": "472473f2",
   "metadata": {},
   "source": [
    "## Visualización y preprocesamiento de los datos 🔍"
   ]
  },
  {
   "cell_type": "code",
   "execution_count": 6,
   "id": "1154acf7",
   "metadata": {},
   "outputs": [
    {
     "data": {
      "image/png": "[encoded data removed]",
      "text/plain": [
       "<Figure size 640x480 with 1 Axes>"
      ]
     },
     "metadata": {},
     "output_type": "display_data"
    }
   ],
   "source": [
    "\"\"\"\n",
    "- Número de ejemplos de cada clase\n",
    "\"\"\"\n",
    "filename = \"train_classes_hist.png\"\n",
    "save_flag = True\n",
    "\n",
    "classes, samples_per_class = np.unique(y_train, return_counts=True)\n",
    "classes = [list(labels.keys())[c] for c in classes]\n",
    "\n",
    "plt.figure()\n",
    "plt.title(\"Número de ejemplos por clase\")\n",
    "plt.bar(classes, samples_per_class)\n",
    "if save_flag:\n",
    "    plt.savefig(os.path.join(resources_generated_path, filename))\n",
    "plt.show()"
   ]
  },
  {
   "cell_type": "markdown",
   "id": "36b36898",
   "metadata": {},
   "source": [
    "- Como los textos proporcionados se encuentran escritos en español, utilizamos el modelo \"es_core_news_sm\" de SpaCy (https://spacy.io/models/es)."
   ]
  },
  {
   "cell_type": "code",
   "execution_count": 7,
   "id": "2cb46c8f",
   "metadata": {},
   "outputs": [
    {
     "name": "stdout",
     "output_type": "stream",
     "text": [
      "- Sentencia aleatoria original:\n",
      "    Esta mañana nos hemos reunido con el director general de Imserso y su equipo para avanzar en el plan estratégico de la Ciudad del Mayor. Entre otras novedades, este centro será referente nacional en políticas estratégicas de soledad no deseada, fenómeno que debe estar en agenda.\n",
      "- Sentencia tras preprocesamiento:\n",
      "    mañana reunido director general imserso equipo avanzar plan estratégico ciudad novedades centro referente nacional políticas estratégicas soledad deseada fenómeno agenda\n"
     ]
    }
   ],
   "source": [
    "spacy_model = \"es_core_news_sm\"\n",
    "nlp = spacy.load(spacy_model)\n",
    "\n",
    "def preprocess_sent(model,\n",
    "                    text,\n",
    "                    lowercase=True,\n",
    "                    remove_urls=True,\n",
    "                    remove_punct=True,\n",
    "                    remove_numbers=False,\n",
    "                    remove_stopwords=True,\n",
    "                    lemmatize=False,\n",
    "                    remove_hashtags=True,\n",
    "                    remove_mentions=True,\n",
    "                    remove_emojis=False,\n",
    "                    min_token_length=3):\n",
    "    if not text:\n",
    "        return \"\"\n",
    "    \n",
    "    t = text\n",
    "    \n",
    "    if lowercase:\n",
    "        t = text.lower()\n",
    "    \n",
    "    if remove_urls:\n",
    "        t = re.sub(r\"https?://\\S+|www\\.\\S+\", \"\", t)\n",
    "    \n",
    "    if remove_hashtags:\n",
    "        t = re.sub(r\"#\\w+\", \"\", t)\n",
    "\n",
    "    if remove_mentions:\n",
    "        t = re.sub(r\"@\\w+\", \"\", t)\n",
    "    \n",
    "    doc = model(t)\n",
    "\n",
    "    result = []\n",
    "    for token in doc:\n",
    "        if token.text.strip():\n",
    "            if (remove_punct and token.is_punct) or \\\n",
    "                (remove_numbers and token.like_num) or \\\n",
    "                (remove_stopwords and token.is_stop) or \\\n",
    "                (remove_emojis and emoji.is_emoji(token.text)) or \\\n",
    "                (token.pos_ == \"SPACE\") or \\\n",
    "                (len(token.text) < min_token_length):\n",
    "                continue\n",
    "\n",
    "            word = token.lemma_ if lemmatize else token.text\n",
    "            result.append(word)\n",
    "\n",
    "    return result\n",
    "\n",
    "rand_idx = random.randint(0, len(corpus_train))\n",
    "rand_sample = corpus_train[rand_idx]\n",
    "print(\"- Sentencia aleatoria original:\")\n",
    "print(f\"    {rand_sample}\")\n",
    "print(\"- Sentencia tras preprocesamiento:\")\n",
    "preprocessed_sample = \" \".join(preprocess_sent(nlp, rand_sample))\n",
    "print(f\"    {preprocessed_sample}\")"
   ]
  },
  {
   "cell_type": "markdown",
   "id": "d4f493ab",
   "metadata": {},
   "source": [
    "- La función `preprocess_sent` utiliza las librerías `re` (para filtrar sentencias mediante expresiones regulares) y `SpaCy` para preprocesar el texto de diferentes maneras:\n",
    "    - `lowercase`: si es `True`, todos los caracteres del texto original se convertirán a **minúsculas**.\n",
    "    - `remove_urls`: si es `True`, se eliminarán las **direcciones URL** del texto original.\n",
    "    - `remove_punct`: si es `True`, se eliminarán los **signos de puntuación** del texto original.\n",
    "    - `remove_numbers`: si es `True`, se eliminarán los **números** del texto original.\n",
    "    - `remove_stopwords:` si es `True`, se eliminarán las **palabras vacías (stopwords)** del texto original.\n",
    "    - `lemmatize`: si es `True`, se devolverán los **tokens lematizados**.\n",
    "    - `remove_hashtags`: si es `True`, se eliminarán  los **hashtags** del texto original.\n",
    "    - `remove_mentions`: si es `True`, se eliminarán las **menciones a otros usuarios** de X.\n",
    "    - `min_token_length`: **longitud mínima de un token** para formar parte del tetxo preprocesado.\n",
    "\n",
    "- Ahora que hemos observado el comportamiento de la función con una muestra aleatoria, aplicaremos diferentes preprocesamientos a los ejemplos de entrenamiento y desarrollo:"
   ]
  },
  {
   "cell_type": "code",
   "execution_count": 8,
   "id": "8d8e9e53",
   "metadata": {},
   "outputs": [
    {
     "name": "stdout",
     "output_type": "stream",
     "text": [
      "Se han detectado los corpus preprocesados en data/generated.\n"
     ]
    }
   ],
   "source": [
    "preprocessed_names = [\n",
    "    \"corpus_train_min.pkl\",\n",
    "    \"corpus_dev_min.pkl\",\n",
    "    \"corpus_train_std.pkl\",\n",
    "    \"corpus_dev_std.pkl\"\n",
    "]\n",
    "\n",
    "# Si los datos preprocesados existen, no volvemos a preprocesar\n",
    "preprocessed_saved = all([pn in os.listdir(data_generated_path) for pn in preprocessed_names])\n",
    "if not preprocessed_saved:\n",
    "    print(\"- Preprocesando textos...\")\n",
    "    \"\"\"\n",
    "    - Preprocesamiento mínimo del texto (tokens en minúsculas de longitud mayor o igual a 2, sin menciones ni URLs)\n",
    "    \"\"\"\n",
    "    corpus_train_min = [\" \".join(preprocess_sent(nlp, text,\n",
    "                                        remove_punct=False,\n",
    "                                        remove_stopwords=False,\n",
    "                                        remove_hashtags=False,\n",
    "                                        min_token_length=2)) for text in corpus_train]\n",
    "\n",
    "    corpus_dev_min = [\" \".join(preprocess_sent(nlp, text,\n",
    "                                        remove_punct=False,\n",
    "                                        remove_stopwords=False,\n",
    "                                        remove_hashtags=False,\n",
    "                                        min_token_length=2)) for text in corpus_dev]\n",
    "    \n",
    "    \"\"\"\n",
    "    - Preprocesamiento estándar (tokens lematizados en minúsculas de longitud mayor o igual a 3, sin menciones,\n",
    "    URLs, puntuación ni stopwords)\n",
    "    \"\"\"\n",
    "    corpus_train_std = [\" \".join(preprocess_sent(nlp, text,\n",
    "                                    remove_numbers=True,\n",
    "                                    lemmatize=True)) for text in corpus_train]\n",
    "\n",
    "    corpus_dev_std = [\" \".join(preprocess_sent(nlp, text,\n",
    "                                    remove_numbers=True,\n",
    "                                    lemmatize=True)) for text in corpus_dev]\n",
    "else:\n",
    "    print(f\"Se han detectado los corpus preprocesados en {data_generated_path}.\")\n",
    "    preprocessed_loaded_data = {}\n",
    "    for c in os.listdir(data_generated_path):\n",
    "        if c in preprocessed_names:\n",
    "            with open(os.path.join(data_generated_path, c), \"rb\") as f:\n",
    "                data = pickle.load(f)\n",
    "            preprocessed_loaded_data[c] = data\n",
    "            \n",
    "    corpus_train_min = preprocessed_loaded_data[\"corpus_train_min.pkl\"][\"preprocessed_text\"]\n",
    "    corpus_dev_min = preprocessed_loaded_data[\"corpus_dev_min.pkl\"][\"preprocessed_text\"]\n",
    "    corpus_train_std = preprocessed_loaded_data[\"corpus_train_std.pkl\"][\"preprocessed_text\"]\n",
    "    corpus_dev_std = preprocessed_loaded_data[\"corpus_dev_std.pkl\"][\"preprocessed_text\"]"
   ]
  },
  {
   "cell_type": "code",
   "execution_count": 9,
   "id": "9227746d",
   "metadata": {},
   "outputs": [],
   "source": [
    "# Guardar textos preprocesados con pickle\n",
    "save_flag = False\n",
    "if not preprocessed_saved and save_flag:\n",
    "    # Preparar directorio si no existe\n",
    "    if not os.path.exists(data_generated_path):\n",
    "        os.makedirs(data_generated_path)\n",
    "    \n",
    "    # Guardar datos de corpus mínimo\n",
    "    with open(os.path.join(data_generated_path, \"corpus_train_min.pkl\"), \"wb\") as f:\n",
    "        pickle.dump({\n",
    "            \"preprocessed_text\": corpus_train_min,\n",
    "            \"ideology\": y_train\n",
    "        }, f)\n",
    "    \n",
    "    with open(os.path.join(data_generated_path, \"corpus_dev_min.pkl\"), \"wb\") as f:\n",
    "        pickle.dump({\n",
    "            \"preprocessed_text\": corpus_dev_min,\n",
    "            \"ideology\": y_dev\n",
    "        }, f)\n",
    "    \n",
    "    # Guardar datos de corpus estándar\n",
    "    with open(os.path.join(data_generated_path, \"corpus_train_std.pkl\"), \"wb\") as f:\n",
    "        pickle.dump({\n",
    "            \"preprocessed_text\": corpus_train_std,\n",
    "            \"ideology\": y_train\n",
    "        }, f)\n",
    "    \n",
    "    with open(os.path.join(data_generated_path, \"corpus_dev_std.pkl\"), \"wb\") as f:\n",
    "        pickle.dump({\n",
    "            \"preprocessed_text\": corpus_dev_std,\n",
    "            \"ideology\": y_dev\n",
    "        }, f)"
   ]
  },
  {
   "cell_type": "markdown",
   "id": "144c2bb3",
   "metadata": {},
   "source": [
    "## Representación con BoW (Bag of Words) 🎒"
   ]
  },
  {
   "cell_type": "markdown",
   "id": "ddb90d76",
   "metadata": {},
   "source": [
    "### BoW con pesado binario"
   ]
  },
  {
   "cell_type": "code",
   "execution_count": 10,
   "id": "42c9c6fc",
   "metadata": {},
   "outputs": [],
   "source": [
    "\"\"\"\n",
    "- Con preprocesamiento mínimo\n",
    "\"\"\"\n",
    "vectorizer_bin = CountVectorizer(binary=True)\n",
    "dt_matrix_bin_train_min = vectorizer_bin.fit_transform(corpus_train_min)\n",
    "dt_matrix_bin_dev_min = vectorizer_bin.transform(corpus_dev_min)"
   ]
  },
  {
   "cell_type": "code",
   "execution_count": 11,
   "id": "41fdac14",
   "metadata": {},
   "outputs": [],
   "source": [
    "\"\"\"\n",
    "- Con preprocesamiento estándar\n",
    "\"\"\"\n",
    "vectorizer_bin = CountVectorizer(binary=True)\n",
    "dt_matrix_bin_train_std = vectorizer_bin.fit_transform(corpus_train_std)\n",
    "dt_matrix_bin_dev_std = vectorizer_bin.transform(corpus_dev_std)"
   ]
  },
  {
   "cell_type": "markdown",
   "id": "bb4c335c",
   "metadata": {},
   "source": [
    "### BoW con pesado TF"
   ]
  },
  {
   "cell_type": "code",
   "execution_count": 12,
   "id": "55ed7516",
   "metadata": {},
   "outputs": [],
   "source": [
    "\"\"\"\n",
    "- Con preprocesamiento mínimo\n",
    "\"\"\"\n",
    "vectorizer_tf = CountVectorizer()\n",
    "dt_matrix_tf_train_min = vectorizer_tf.fit_transform(corpus_train_min)\n",
    "dt_matrix_tf_dev_min = vectorizer_tf.transform(corpus_dev_min)"
   ]
  },
  {
   "cell_type": "code",
   "execution_count": 13,
   "id": "42bc9ad4",
   "metadata": {},
   "outputs": [],
   "source": [
    "\"\"\"\n",
    "- Con preprocesamiento estándar\n",
    "\"\"\"\n",
    "vectorizer_tf = CountVectorizer()\n",
    "dt_matrix_tf_train_std = vectorizer_tf.fit_transform(corpus_train_std)\n",
    "dt_matrix_tf_dev_std = vectorizer_tf.transform(corpus_dev_std)"
   ]
  },
  {
   "cell_type": "markdown",
   "id": "1d8fb9c8",
   "metadata": {},
   "source": [
    "### BoW con pesado TF-IDF"
   ]
  },
  {
   "cell_type": "code",
   "execution_count": 14,
   "id": "07e8defb",
   "metadata": {},
   "outputs": [],
   "source": [
    "\"\"\"\n",
    "- Con preprocesamiento mínimo\n",
    "\"\"\"\n",
    "vectorizer_tfidf = TfidfVectorizer()\n",
    "dt_matrix_tfidf_train_min = vectorizer_tfidf.fit_transform(corpus_train_min)\n",
    "dt_matrix_tfidf_dev_min = vectorizer_tfidf.transform(corpus_dev_min)"
   ]
  },
  {
   "cell_type": "code",
   "execution_count": 15,
   "id": "cfaca272",
   "metadata": {},
   "outputs": [],
   "source": [
    "\"\"\"\n",
    "- Con preprocesamiento estándar\n",
    "\"\"\"\n",
    "vectorizer_tfidf = TfidfVectorizer()\n",
    "dt_matrix_tfidf_train_std = vectorizer_tfidf.fit_transform(corpus_train_std)\n",
    "dt_matrix_tfidf_dev_std = vectorizer_tfidf.transform(corpus_dev_std)"
   ]
  },
  {
   "cell_type": "markdown",
   "id": "28e87c47",
   "metadata": {},
   "source": [
    "## Clasificación con modelos clásicos de Aprendizaje Automático ⚙️\n",
    "- En este apartado, utilizaremos los siguientes modelos de Machine Learning clásicos para llevar a cabo la clasificación:\n",
    "    - **Naive Bayes:** clasificador **probabilístico** que se basa en el **teorema de Bayes** que para un documento $d$, entre todas las clases $c \\in C$, devolverá aquella clase $\\hat{c}$ que tiene la máxima probabilidad a posteriori. https://web.stanford.edu/~jurafsky/slp3/4.pdf\n",
    "        - En nuestro caso, para la representación con Bag of Words y pesado binario, utilizamos la clase `BernoulliNB` de `sklearn` (https://scikit-learn.org/stable/modules/generated/sklearn.naive_bayes.BernoulliNB.html), que se trata de una adaptación del clasificador de Naive Bayes para **características booleanas/binarias**.\n",
    "        - En cuanto a la representación con Bag of Words y pesado TF y TF-IDF, utilizamos la clase `ComplementNB` de `sklearn` (https://scikit-learn.org/stable/modules/generated/sklearn.naive_bayes.ComplementNB.html), que es adecuado para datasets no balanceados con **características continuas**.\n",
    "\n",
    "    - **SVM:** algoritmo de aprendizaje supervisado (usado tanto para tareas de **regresión** como para tareas de **clasificación**) que, en clasificación, encuentra los **hiperplanos que separan las diferentes clases**. https://cs229.stanford.edu/proj2019aut/data/assignment_308832_raw/26644050.pdf\n"
   ]
  },
  {
   "cell_type": "code",
   "execution_count": 16,
   "id": "2158f09c",
   "metadata": {},
   "outputs": [],
   "source": [
    "def save_model(model, name):\n",
    "    with open(os.path.join(models_path, name + \".pkl\"), \"wb\") as f:\n",
    "        pickle.dump(model, f)\n",
    "\n",
    "def get_metrics(y_true, y_pred):\n",
    "    return {\n",
    "        \"accuracy\": accuracy_score(y_true, y_pred),\n",
    "        \"precision\": precision_score(y_true, y_pred, average=\"macro\"),\n",
    "        \"recall\": recall_score(y_true, y_pred, average=\"macro\"),\n",
    "        \"f1\": f1_score(y_true, y_pred, average=\"macro\"),\n",
    "        \"macro_f1\": f1_score(y_true, y_pred, average=\"macro\")\n",
    "    }\n",
    "\n",
    "ml_results = dict()"
   ]
  },
  {
   "cell_type": "markdown",
   "id": "74c64494",
   "metadata": {},
   "source": [
    "### Clasificador \"Bernoulli Naive Bayes\" (orientado a BoW con pesado binario)"
   ]
  },
  {
   "cell_type": "code",
   "execution_count": 17,
   "id": "0c1894d0",
   "metadata": {},
   "outputs": [
    {
     "data": {
      "image/png": "[encoded data removed]",
      "text/plain": [
       "<Figure size 640x480 with 2 Axes>"
      ]
     },
     "metadata": {},
     "output_type": "display_data"
    }
   ],
   "source": [
    "\"\"\"\n",
    "- Con preprocesamiento mínimo\n",
    "\"\"\"\n",
    "bernoulli_nb = BernoulliNB()\n",
    "bernoulli_nb.fit(dt_matrix_bin_train_min, y_train.ravel())\n",
    "y_pred_bernoulli_min = bernoulli_nb.predict(dt_matrix_bin_dev_min)\n",
    "\n",
    "ml_results[\"bernoulli_nb_min\"] = get_metrics(y_dev, y_pred_bernoulli_min)\n",
    "\n",
    "cm = confusion_matrix(y_dev, y_pred_bernoulli_min, labels=bernoulli_nb.classes_)\n",
    "disp = ConfusionMatrixDisplay(cm, display_labels=bernoulli_nb.classes_)\n",
    "disp.plot()\n",
    "plt.show()\n",
    "\n",
    "save_model(bernoulli_nb, \"bernoulli_nb_min\")"
   ]
  },
  {
   "cell_type": "code",
   "execution_count": 18,
   "id": "2f2ce960",
   "metadata": {},
   "outputs": [],
   "source": [
    "\"\"\"\n",
    "- Con preprocesamiento estándar\n",
    "\"\"\"\n",
    "bernoulli_nb = BernoulliNB()\n",
    "bernoulli_nb.fit(dt_matrix_bin_train_std, y_train.ravel())\n",
    "y_pred_bernoulli_std = bernoulli_nb.predict(dt_matrix_bin_dev_std)\n",
    "\n",
    "ml_results[\"bernoulli_nb_std\"] = get_metrics(y_dev, y_pred_bernoulli_std)\n",
    "\n",
    "save_model(bernoulli_nb, \"bernoulli_nb_std\")"
   ]
  },
  {
   "cell_type": "markdown",
   "id": "dabcf2c4",
   "metadata": {},
   "source": [
    "### Clasificador \"Complement Naive Bayes\""
   ]
  },
  {
   "cell_type": "code",
   "execution_count": 19,
   "id": "b670f402",
   "metadata": {},
   "outputs": [],
   "source": [
    "\"\"\"\n",
    "- Con preprocesamiento mínimo y pesado TF\n",
    "\"\"\"\n",
    "complement_nb = ComplementNB()\n",
    "complement_nb.fit(dt_matrix_tf_train_min, y_train.ravel())\n",
    "y_pred_complementnb_tf_min = complement_nb.predict(dt_matrix_tf_dev_min)\n",
    "\n",
    "ml_results[\"complement_nb_tf_min\"] = get_metrics(y_dev, y_pred_complementnb_tf_min)\n",
    "\n",
    "save_model(complement_nb, \"complement_nb_tf_min\")"
   ]
  },
  {
   "cell_type": "code",
   "execution_count": 20,
   "id": "1702aeca",
   "metadata": {},
   "outputs": [],
   "source": [
    "\"\"\"\n",
    "- Con preprocesamiento estándar y pesado TF\n",
    "\"\"\"\n",
    "complement_nb = ComplementNB()\n",
    "complement_nb.fit(dt_matrix_tf_train_std, y_train.ravel())\n",
    "y_pred_complementnb_tf_std = complement_nb.predict(dt_matrix_tf_dev_std)\n",
    "\n",
    "ml_results[\"complement_nb_tf_std\"] = get_metrics(y_dev, y_pred_complementnb_tf_std)\n",
    "\n",
    "save_model(complement_nb, \"complement_nb_tf_std\")"
   ]
  },
  {
   "cell_type": "code",
   "execution_count": 21,
   "id": "e8566f19",
   "metadata": {},
   "outputs": [],
   "source": [
    "\"\"\"\n",
    "- Con preprocesamiento mínimo y pesado TF-IDF\n",
    "\"\"\"\n",
    "complement_nb = ComplementNB()\n",
    "complement_nb.fit(dt_matrix_tfidf_train_min, y_train.ravel())\n",
    "y_pred_complementnb_tfidf_min = complement_nb.predict(dt_matrix_tfidf_dev_min)\n",
    "\n",
    "ml_results[\"complement_nb_tfidf_min\"] = get_metrics(y_dev, y_pred_complementnb_tfidf_min)\n",
    "\n",
    "save_model(complement_nb, \"complement_nb_tfidf_min\")"
   ]
  },
  {
   "cell_type": "code",
   "execution_count": 22,
   "id": "6598d1e1",
   "metadata": {},
   "outputs": [],
   "source": [
    "\"\"\"\n",
    "- Con preprocesamiento estándar y pesado TF-IDF\n",
    "\"\"\"\n",
    "complement_nb = ComplementNB()\n",
    "complement_nb.fit(dt_matrix_tfidf_train_std, y_train.ravel())\n",
    "y_pred_complementnb_tfidf_std = complement_nb.predict(dt_matrix_tfidf_dev_std)\n",
    "\n",
    "ml_results[\"complement_nb_tfidf_std\"] = get_metrics(y_dev, y_pred_complementnb_tfidf_std)\n",
    "\n",
    "save_model(complement_nb, \"complement_nb_tfidf_std\")"
   ]
  },
  {
   "cell_type": "markdown",
   "id": "e9240b49",
   "metadata": {},
   "source": [
    "### Clasificador \"Support Vector Machine\""
   ]
  },
  {
   "cell_type": "code",
   "execution_count": 23,
   "id": "7ac167b3",
   "metadata": {},
   "outputs": [],
   "source": [
    "\"\"\"\n",
    "- Con preprocesamiento mínimo y pesado binario\n",
    "\"\"\"\n",
    "svm = LinearSVC()\n",
    "svm.fit(dt_matrix_bin_train_min, y_train.ravel())\n",
    "y_pred_svm_bin_min = svm.predict(dt_matrix_bin_dev_min)\n",
    "\n",
    "ml_results[\"svm_bin_min\"] = get_metrics(y_dev, y_pred_svm_bin_min)\n",
    "\n",
    "save_model(svm, \"svm_bin_min\")"
   ]
  },
  {
   "cell_type": "code",
   "execution_count": 24,
   "id": "523f9016",
   "metadata": {},
   "outputs": [],
   "source": [
    "\"\"\"\n",
    "- Con preprocesamiento estándar y pesado binario\n",
    "\"\"\"\n",
    "svm = LinearSVC()\n",
    "svm.fit(dt_matrix_bin_train_std, y_train.ravel())\n",
    "y_pred_svm_bin_std = svm.predict(dt_matrix_bin_dev_std)\n",
    "\n",
    "ml_results[\"svm_bin_std\"] = get_metrics(y_dev, y_pred_svm_bin_std)\n",
    "\n",
    "save_model(svm, \"svm_bin_std\")"
   ]
  },
  {
   "cell_type": "code",
   "execution_count": 25,
   "id": "dff11f35",
   "metadata": {},
   "outputs": [
    {
     "name": "stderr",
     "output_type": "stream",
     "text": [
      "/opt/anaconda3/envs/practica_pln1/lib/python3.12/site-packages/sklearn/svm/_base.py:1249: ConvergenceWarning: Liblinear failed to converge, increase the number of iterations.\n",
      "  warnings.warn(\n"
     ]
    }
   ],
   "source": [
    "\"\"\"\n",
    "- Con preprocesamiento mínimo y pesado TF\n",
    "\"\"\"\n",
    "svm = LinearSVC()\n",
    "svm.fit(dt_matrix_tf_train_min, y_train.ravel())\n",
    "y_pred_svm_tf_min = svm.predict(dt_matrix_tf_dev_min)\n",
    "\n",
    "ml_results[\"svm_tf_min\"] = get_metrics(y_dev, y_pred_svm_tf_min)\n",
    "\n",
    "save_model(svm, \"svm_tf_min\")"
   ]
  },
  {
   "cell_type": "code",
   "execution_count": 26,
   "id": "a72d5189",
   "metadata": {},
   "outputs": [
    {
     "name": "stderr",
     "output_type": "stream",
     "text": [
      "/opt/anaconda3/envs/practica_pln1/lib/python3.12/site-packages/sklearn/svm/_base.py:1249: ConvergenceWarning: Liblinear failed to converge, increase the number of iterations.\n",
      "  warnings.warn(\n"
     ]
    }
   ],
   "source": [
    "\"\"\"\n",
    "- Con preprocesamiento estándar y pesado TF\n",
    "\"\"\"\n",
    "svm = LinearSVC()\n",
    "svm.fit(dt_matrix_tf_train_std, y_train.ravel())\n",
    "y_pred_svm_tf_std = svm.predict(dt_matrix_tf_dev_std)\n",
    "\n",
    "ml_results[\"svm_tf_std\"] = get_metrics(y_dev, y_pred_svm_tf_std)\n",
    "\n",
    "save_model(svm, \"svm_tf_std\")"
   ]
  },
  {
   "cell_type": "code",
   "execution_count": 27,
   "id": "d414ee7d",
   "metadata": {},
   "outputs": [],
   "source": [
    "\"\"\"\n",
    "- Con preprocesamiento mínimo y pesado TF-IDF\n",
    "\"\"\"\n",
    "svm = LinearSVC()\n",
    "svm.fit(dt_matrix_tfidf_train_min, y_train.ravel())\n",
    "y_pred_svm_tfidf_min = svm.predict(dt_matrix_tfidf_dev_min)\n",
    "\n",
    "ml_results[\"svm_tfidf_min\"] = get_metrics(y_dev, y_pred_svm_tfidf_min)\n",
    "\n",
    "save_model(svm, \"svm_tfidf_min\")"
   ]
  },
  {
   "cell_type": "code",
   "execution_count": null,
   "id": "7c0399f7",
   "metadata": {},
   "outputs": [
    {
     "ename": "",
     "evalue": "",
     "output_type": "error",
     "traceback": [
      "\u001b[1;31mEl kernel se bloqueó al ejecutar código en la celda actual o en una celda anterior. \n",
      "\u001b[1;31mRevise el código de las celdas para identificar una posible causa del error. \n",
      "\u001b[1;31mHaga clic <a href='https://aka.ms/vscodeJupyterKernelCrash'>aquí</a> para obtener más información. \n",
      "\u001b[1;31mVea Jupyter <a href='command:jupyter.viewOutput'>log</a> para obtener más detalles."
     ]
    }
   ],
   "source": [
    "\"\"\"\n",
    "- Con preprocesamiento estándar y pesado TF-IDF\n",
    "\"\"\"\n",
    "svm = LinearSVC()\n",
    "svm.fit(dt_matrix_tfidf_train_std, y_train.ravel())\n",
    "y_pred_svm_tfidf_std = svm.predict(dt_matrix_tfidf_dev_std)\n",
    "\n",
    "ml_results[\"svm_tfidf_std\"] = get_metrics(y_dev, y_pred_svm_tfidf_std)\n",
    "\n",
    "save_model(svm, \"svm_tfidf_std\")"
   ]
  },
  {
   "cell_type": "markdown",
   "id": "1f7d3477",
   "metadata": {},
   "source": [
    "## Clasificación con modelos de Aprendizaje Profundo 🧠"
   ]
  },
  {
   "cell_type": "code",
   "execution_count": null,
   "metadata": {},
   "outputs": [
    {
     "name": "stderr",
     "output_type": "stream",
     "text": [
      "Some layers from the model checkpoint at dccuchile/bert-base-spanish-wwm-cased were not used when initializing TFBertModel: ['mlm___cls']\n",
      "- This IS expected if you are initializing TFBertModel from the checkpoint of a model trained on another task or with another architecture (e.g. initializing a BertForSequenceClassification model from a BertForPreTraining model).\n",
      "- This IS NOT expected if you are initializing TFBertModel from the checkpoint of a model that you expect to be exactly identical (initializing a BertForSequenceClassification model from a BertForSequenceClassification model).\n",
      "Some layers of TFBertModel were not initialized from the model checkpoint at dccuchile/bert-base-spanish-wwm-cased and are newly initialized: ['bert/pooler/dense/bias:0', 'bert/pooler/dense/kernel:0']\n",
      "You should probably TRAIN this model on a down-stream task to be able to use it for predictions and inference.\n"
     ]
    }
   ],
   "source": [
    "tokenizer = AutoTokenizer.from_pretrained(\"dccuchile/bert-base-spanish-wwm-cased\")\n",
    "transformer_model = TFAutoModel.from_pretrained(\"dccuchile/bert-base-spanish-wwm-cased\")\n",
    "\n",
    "encoded_input = tokenizer(corpus_train_min,\n",
    "                          padding=True,\n",
    "                          truncation=True,\n",
    "                          return_tensors=\"tf\",\n",
    "                          max_length=128)\n",
    "\n",
    "outputs = transformer_model(encoded_input)\n",
    "last_hidden_state = outputs.last_hidden_state\n",
    "last_hidden_state"
   ]
  },
  {
   "cell_type": "code",
   "execution_count": null,
   "id": "6cb881b0",
   "metadata": {},
   "outputs": [],
   "source": [
    "embedding_dim = 100\n",
    "vocab_size = 200\n",
    "\n",
    "model_dnn = Sequential()\n",
    "model_dnn.add(Embedding(input_dim=vocab_size, output_dim=embedding_dim))\n",
    "model_dnn.add(Flatten())\n",
    "model_dnn.add(Dense(128, activation=\"relu\"))\n",
    "model_dnn.add(Dense(64, activation=\"relu\"))\n",
    "model_dnn.add(Dense(32, activation=\"relu\"))\n",
    "model_dnn.add(Dense(4, activation=\"softmax\"))\n",
    "\n",
    "model_dnn.compile(optimizer=\"adam\", loss=\"categorical_crossentropy\", metrics=[\"accuracy\"])\n",
    "\n",
    "model_dnn.fit()"
   ]
  },
  {
   "cell_type": "code",
   "execution_count": null,
   "id": "582fd6c9",
   "metadata": {},
   "outputs": [],
   "source": [
    "model_cnn = Sequential()\n",
    "model_cnn.add(Embedding(input_dim=vocab_size, output_dim=embedding_dim))\n",
    "model_cnn.add(Flatten())\n",
    "model_cnn.add(Conv1D(128, (5,), activation=\"relu\"))\n",
    "model_cnn.add(MaxPooling1D(2))\n",
    "model_cnn.add(Conv1D(64, (3,), activation=\"relu\"))\n",
    "model_cnn.add(MaxPooling1D(2))\n",
    "model_cnn.add(Flatten())\n",
    "model_cnn.add(Dense(64, activation=\"relu\"))\n",
    "model_cnn.add(Dense(32, activation=\"relu\"))\n",
    "model_cnn.add(Dense(4, activation=\"softmax\"))\n",
    "\n",
    "model_cnn.compile(optimizer=\"adam\", loss=\"categorical_crossentropy\", metrics=[\"accuracy\"])\n",
    "\n",
    "svm.fit(dt_matrix_tfidf_train_std, y_train.ravel())\n",
    "y_pred_svm_tfidf_std = svm.predict(dt_matrix_tfidf_dev_std)\n",
    "\n",
    "ml_results[\"svm_tfidf_std\"] = get_metrics(y_dev, y_pred_svm_tfidf_std)\n",
    "\n",
    "save_model(svm, \"svm_tfidf_std\")"
   ]
  }
 ],
 "metadata": {
  "kernelspec": {
   "display_name": "practica_pln1",
   "language": "python",
   "name": "python3"
  },
  "language_info": {
   "codemirror_mode": {
    "name": "ipython",
    "version": 3
   },
   "file_extension": ".py",
   "mimetype": "text/x-python",
   "name": "python",
   "nbconvert_exporter": "python",
   "pygments_lexer": "ipython3",
   "version": "3.12.9"
  }
 },
 "nbformat": 4,
 "nbformat_minor": 5
}
